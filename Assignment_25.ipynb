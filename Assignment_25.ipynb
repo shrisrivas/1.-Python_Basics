{
 "cells": [
  {
   "cell_type": "markdown",
   "id": "6b771202",
   "metadata": {},
   "source": [
    "1) . What is the difference between enclosing a list comprehension in square brackets and parentheses?\n",
    "2) What is the relationship between generators and iterators?\n",
    "3) What are the signs that a function is a generator function?\n",
    "4) What is the purpose of a yield statement?\n",
    "5) What is the relationship between map calls and list comprehensions? Make a comparison and contrast between the two."
   ]
  },
  {
   "cell_type": "markdown",
   "id": "a876a6a5",
   "metadata": {},
   "source": [
    "# 1) . What is the difference between enclosing a list comprehension in square brackets and parentheses?\n"
   ]
  },
  {
   "cell_type": "code",
   "execution_count": 2,
   "id": "3d51564a",
   "metadata": {},
   "outputs": [],
   "source": [
    "## Square brackets are lists while parentheses are tuples.\n",
    "\n",
    "x=[1,2]"
   ]
  },
  {
   "cell_type": "code",
   "execution_count": 3,
   "id": "280f77b1",
   "metadata": {},
   "outputs": [
    {
     "data": {
      "text/plain": [
       "2"
      ]
     },
     "execution_count": 3,
     "metadata": {},
     "output_type": "execute_result"
    }
   ],
   "source": [
    "x[1]"
   ]
  },
  {
   "cell_type": "code",
   "execution_count": 4,
   "id": "b96a712a",
   "metadata": {},
   "outputs": [],
   "source": [
    "x=(1,2)"
   ]
  },
  {
   "cell_type": "code",
   "execution_count": 5,
   "id": "4c4955bc",
   "metadata": {},
   "outputs": [
    {
     "data": {
      "text/plain": [
       "2"
      ]
     },
     "execution_count": 5,
     "metadata": {},
     "output_type": "execute_result"
    }
   ],
   "source": [
    "x[1]"
   ]
  },
  {
   "cell_type": "markdown",
   "id": "61120261",
   "metadata": {},
   "source": [
    "### 2) What is the relationship between generators and iterators?"
   ]
  },
  {
   "cell_type": "raw",
   "id": "0832bcd8",
   "metadata": {},
   "source": [
    "Iterators are the objects that use the next() method to get the next value of the sequence. A generator is a function that produces or yields a sequence of values using a yield statement"
   ]
  },
  {
   "cell_type": "markdown",
   "id": "78cee5bd",
   "metadata": {},
   "source": [
    "# 3) What are the signs that a function is a generator function?"
   ]
  },
  {
   "cell_type": "raw",
   "id": "21b64ab8",
   "metadata": {},
   "source": [
    "If a function contains at least one yield statement (it may contain other yield or return statements), it becomes a generator function. Both yield and return will return some value from a function."
   ]
  },
  {
   "cell_type": "markdown",
   "id": "6e6bd231",
   "metadata": {},
   "source": [
    "# 4.) What is the purpose of a yield statement?"
   ]
  },
  {
   "cell_type": "raw",
   "id": "bbfc7087",
   "metadata": {},
   "source": [
    "The yield statement returns a generator object to the one who calls the function which contains yield, instead of simply returning a value."
   ]
  },
  {
   "cell_type": "markdown",
   "id": "43c0ca63",
   "metadata": {},
   "source": [
    "# 5) What is the relationship between map calls and list comprehensions? Make a comparison and contrast between the two."
   ]
  },
  {
   "cell_type": "raw",
   "id": "6a2c3eb5",
   "metadata": {},
   "source": [
    "List comprehension is more concise and easier to read as compared to map. List comprehension are used when a list of results is required as map only returns a map object and does not return any list. Map is faster in case of calling an already defined function (as no lambda is required)."
   ]
  },
  {
   "cell_type": "code",
   "execution_count": null,
   "id": "f6ea60b9",
   "metadata": {},
   "outputs": [],
   "source": []
  }
 ],
 "metadata": {
  "kernelspec": {
   "display_name": "Python 3 (ipykernel)",
   "language": "python",
   "name": "python3"
  },
  "language_info": {
   "codemirror_mode": {
    "name": "ipython",
    "version": 3
   },
   "file_extension": ".py",
   "mimetype": "text/x-python",
   "name": "python",
   "nbconvert_exporter": "python",
   "pygments_lexer": "ipython3",
   "version": "3.10.5"
  }
 },
 "nbformat": 4,
 "nbformat_minor": 5
}
