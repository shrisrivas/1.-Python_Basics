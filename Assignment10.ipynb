{
 "cells": [
  {
   "cell_type": "code",
   "execution_count": null,
   "id": "f3615f1f",
   "metadata": {},
   "outputs": [],
   "source": [
    "1. How do you distinguish between shutil.copy() and shutil.copytree()?\n",
    "2. What function is used to rename files??\n",
    "3. What is the difference between the delete functions in the send2trash and shutil modules?\n",
    "4.ZipFile objects have a close() method just like File objects’ close() method. What ZipFile method is\n",
    "equivalent to File objects’ open() method?\n",
    "5. Create a programme that searches a folder tree for files with a certain file extension (such as .pdf\n",
    "or .jpg). Copy these files from whatever location they are in to a new folder."
   ]
  },
  {
   "cell_type": "raw",
   "id": "f1291d7b",
   "metadata": {},
   "source": [
    "1. How do you distinguish between shutil.copy() and shutil.copytree()?"
   ]
  },
  {
   "cell_type": "raw",
   "id": "29b5c44d",
   "metadata": {},
   "source": [
    "While shutil.copy () will copy a single file, shutil.copytree () will copy an entire folder and every folder and file contained in it"
   ]
  },
  {
   "cell_type": "raw",
   "id": "ec130366",
   "metadata": {},
   "source": [
    "2. What function is used to rename files??"
   ]
  },
  {
   "cell_type": "raw",
   "id": "3a5be6d0",
   "metadata": {},
   "source": [
    "To rename a file name use file.rename () function, by using this you can rename a single file name from an old to a new or multiple files at a time."
   ]
  },
  {
   "cell_type": "raw",
   "id": "25c76344",
   "metadata": {},
   "source": [
    "3. What is the difference between the delete functions in the send2trash and shutil modules?"
   ]
  },
  {
   "cell_type": "raw",
   "id": "44d4d260",
   "metadata": {},
   "source": [
    "send2trash will move a ﬁle or folder to the recycle bin, shutil will permanently delete ﬁles and folders ZipFile objects have a close () method just like File objects’ close () method."
   ]
  },
  {
   "cell_type": "raw",
   "id": "4d952782",
   "metadata": {},
   "source": [
    "4.ZipFile objects have a close() method just like File objects’ close() method. What ZipFile method is\n",
    "equivalent to File objects’ open() method?"
   ]
  },
  {
   "cell_type": "raw",
   "id": "b9b55645",
   "metadata": {},
   "source": [
    "While a ZipFile object represents an entire archive file, a ZipInfo object holds useful information about a single file in the archive. The command at calculates how efficiently example.zip is compressed by dividing the original file size by the compressed file size and prints this information."
   ]
  },
  {
   "cell_type": "raw",
   "id": "a0a78ead",
   "metadata": {},
   "source": [
    "5. Create a programme that searches a folder tree for files with a certain file extension (such as .pdf\n",
    "or .jpg). Copy these files from whatever location they are in to a new folder."
   ]
  },
  {
   "cell_type": "code",
   "execution_count": 1,
   "id": "17137025",
   "metadata": {},
   "outputs": [],
   "source": [
    "import os\n",
    "import shutil\n",
    "\n",
    "def search_and_copy(source,destination,extensions):\n",
    "    source = os.path.abspath(source)\n",
    "    destination = os.path.abspath(destination)\n",
    "    for foldername, subfolder, filenames in os.walk(source):\n",
    "        print(f'Folder Name ➞ {foldername}',end='\\n\\n')\n",
    "        print(f'Sub Folders ➞ {subfolder}',end='\\n\\n')\n",
    "        print(f'Files ➞ {filenames}',end='\\n\\n')\n",
    "        for filename in filenames:\n",
    "            fileName,extension = os.path.splitext(filename)\n",
    "            if extension in extensions:\n",
    "                targetFile = foldername+os.path.sep+fileName+extension\n",
    "                shutil.copy(targetFile, destination)\n",
    "        print(f'Files copied successfully from {source} to {destination}')\n",
    "    \n",
    "extensions = ['.pdf','.jpg','.ipynb']\n",
    "source = 'Dummy Source'\n",
    "destination = 'Dummy Destination'\n",
    "search_and_copy(source, destination, extensions)"
   ]
  },
  {
   "cell_type": "code",
   "execution_count": null,
   "id": "34ac0ae3",
   "metadata": {},
   "outputs": [],
   "source": []
  }
 ],
 "metadata": {
  "kernelspec": {
   "display_name": "Python 3 (ipykernel)",
   "language": "python",
   "name": "python3"
  },
  "language_info": {
   "codemirror_mode": {
    "name": "ipython",
    "version": 3
   },
   "file_extension": ".py",
   "mimetype": "text/x-python",
   "name": "python",
   "nbconvert_exporter": "python",
   "pygments_lexer": "ipython3",
   "version": "3.10.5"
  }
 },
 "nbformat": 4,
 "nbformat_minor": 5
}
