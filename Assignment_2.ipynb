{
 "cells": [
  {
   "cell_type": "raw",
   "id": "c92b126e",
   "metadata": {},
   "source": [
    "1.What are the two values of the Boolean data type? How do you write them?\n",
    "2. What are the three different types of Boolean operators?\n",
    "3. Make a list of each Boolean operator's truth tables (i.e. every possible combination of Boolean values for the operator and what it evaluate ).\n",
    "4. What are the values of the following expressions?\n",
    "(5 > 4) and (3 == 5)\n",
    "not (5 > 4)\n",
    "(5 > 4) or (3 == 5)\n",
    "not ((5 > 4) or (3 == 5))\n",
    "(True and True) and (True == False)\n",
    "(not False) or (not True)\n",
    "5. What are the six comparison operators?\n",
    "6. How do you tell the difference between the equal to and assignment operators?Describe a condition and when you would use one.\n",
    "7. Identify the three blocks in this code:\n",
    "spam = 0\n",
    "if spam == 10:\n",
    "print('eggs')\n",
    "if spam > 5:\n",
    "print('bacon')\n",
    "else:\n",
    "print('ham')\n",
    "print('spam')\n",
    "print('spam')\n",
    "8. Write code that prints Hello if 1 is stored in spam, prints Howdy if 2 is stored in spam, and prints Greetings! if anything else is stored in spam.\n",
    "\n",
    "\n",
    "9.If your programme is stuck in an endless loop, what keys you’ll press?\n",
    "10. How can you tell the difference between break and continue?\n",
    "11. In a for loop, what is the difference between range(10), range(0, 10), and range(0, 10, 1)?\n",
    "12. Write a short program that prints the numbers 1 to 10 using a for loop. Then write an equivalent program that prints the numbers 1 to 10 using a while loop.\n",
    "13. If you had a function named bacon() inside a module named spam, how would you call it after importing spam?\n",
    "\n"
   ]
  },
  {
   "cell_type": "markdown",
   "id": "99a7713e",
   "metadata": {},
   "source": [
    "1.What are the two values of the Boolean data type? How do you write them?\n",
    "\n",
    "A variable of the primitive data type boolean can have two values: true and false. Boolean expressions use relational and logical operators. The result of a Boolean expression is either true or false."
   ]
  },
  {
   "cell_type": "markdown",
   "id": "20e7779d",
   "metadata": {},
   "source": [
    "2.What are the three different types of Boolean operators?\n",
    "\n",
    "AND, OR and NOT"
   ]
  },
  {
   "cell_type": "markdown",
   "id": "cf06b71b",
   "metadata": {},
   "source": [
    "3.Make a list of each Boolean operator's truth tables (i.e. every possible combination of Boolean values for the operator and what it evaluate ).\n",
    "\n",
    "\n"
   ]
  },
  {
   "cell_type": "markdown",
   "id": "073fd185",
   "metadata": {},
   "source": [
    "AND"
   ]
  },
  {
   "cell_type": "code",
   "execution_count": 1,
   "id": "a1a24ae7",
   "metadata": {},
   "outputs": [],
   "source": [
    "1 and 1"
   ]
  },
  {
   "cell_type": "code",
   "execution_count": 2,
   "id": "d92a87d7",
   "metadata": {},
   "outputs": [],
   "source": [
    "1 and 0"
   ]
  },
  {
   "cell_type": "code",
   "execution_count": 3,
   "id": "704b25e5",
   "metadata": {},
   "outputs": [],
   "source": [
    "0 and 1"
   ]
  },
  {
   "cell_type": "code",
   "execution_count": 4,
   "id": "3181723a",
   "metadata": {},
   "outputs": [],
   "source": [
    "0 and 0"
   ]
  },
  {
   "cell_type": "markdown",
   "id": "2c5eb616",
   "metadata": {},
   "source": [
    "OR"
   ]
  },
  {
   "cell_type": "code",
   "execution_count": 5,
   "id": "732f1122",
   "metadata": {},
   "outputs": [],
   "source": [
    "1 or 0"
   ]
  },
  {
   "cell_type": "code",
   "execution_count": 6,
   "id": "4b6577d1",
   "metadata": {},
   "outputs": [],
   "source": [
    "1 or 1"
   ]
  },
  {
   "cell_type": "code",
   "execution_count": 7,
   "id": "bdd57871",
   "metadata": {},
   "outputs": [],
   "source": [
    "0 or 1"
   ]
  },
  {
   "cell_type": "code",
   "execution_count": 8,
   "id": "5d219fe8",
   "metadata": {},
   "outputs": [],
   "source": [
    "0 or 0"
   ]
  },
  {
   "cell_type": "markdown",
   "id": "85a78252",
   "metadata": {},
   "source": [
    "NOT"
   ]
  },
  {
   "cell_type": "code",
   "execution_count": 9,
   "id": "db9eb157",
   "metadata": {},
   "outputs": [],
   "source": [
    "not(0)"
   ]
  },
  {
   "cell_type": "code",
   "execution_count": 10,
   "id": "b292fced",
   "metadata": {},
   "outputs": [],
   "source": [
    "not(1)"
   ]
  },
  {
   "cell_type": "markdown",
   "id": "e28496dc",
   "metadata": {},
   "source": [
    "4. What are the values of the following expressions?\n",
    "(5 > 4) and (3 == 5)\n",
    "not (5 > 4)\n",
    "(5 > 4) or (3 == 5)\n",
    "not ((5 > 4) or (3 == 5))\n",
    "(True and True) and (True == False)\n",
    "(not False) or (not True)"
   ]
  },
  {
   "cell_type": "code",
   "execution_count": 11,
   "id": "18d43989",
   "metadata": {},
   "outputs": [],
   "source": [
    "(5 > 4) and (3 == 5)"
   ]
  },
  {
   "cell_type": "code",
   "execution_count": 12,
   "id": "b414823e",
   "metadata": {},
   "outputs": [],
   "source": [
    "not (5 > 4)"
   ]
  },
  {
   "cell_type": "code",
   "execution_count": 13,
   "id": "c1ac082d",
   "metadata": {},
   "outputs": [],
   "source": [
    "(5 > 4) or (3 == 5)"
   ]
  },
  {
   "cell_type": "code",
   "execution_count": 14,
   "id": "0f1e0e42",
   "metadata": {},
   "outputs": [],
   "source": [
    "not ((5 > 4) or (3 == 5))"
   ]
  },
  {
   "cell_type": "code",
   "execution_count": 15,
   "id": "537edc9d",
   "metadata": {},
   "outputs": [],
   "source": [
    "(True and True) and (True == False)"
   ]
  },
  {
   "cell_type": "code",
   "execution_count": 16,
   "id": "a44bd1d7",
   "metadata": {},
   "outputs": [],
   "source": [
    "(not False) or (not True)"
   ]
  },
  {
   "cell_type": "markdown",
   "id": "fd960bee",
   "metadata": {},
   "source": [
    "\n",
    "5. What are the six comparison operators?\n",
    "\n",
    "\n",
    ">\n",
    ">=\n",
    "<\n",
    "<=\n",
    "==\n",
    "=!\n"
   ]
  },
  {
   "cell_type": "markdown",
   "id": "b2546e81",
   "metadata": {},
   "source": [
    "6. How do you tell the difference between the equal to and assignment operators?Describe a condition and when you would use one.\n",
    "\n",
    "\n",
    "\n"
   ]
  },
  {
   "cell_type": "code",
   "execution_count": 17,
   "id": "82a12f44",
   "metadata": {},
   "outputs": [],
   "source": [
    "a=1"
   ]
  },
  {
   "cell_type": "code",
   "execution_count": 18,
   "id": "27e3e0ca",
   "metadata": {},
   "outputs": [],
   "source": [
    "b=1"
   ]
  },
  {
   "cell_type": "code",
   "execution_count": 19,
   "id": "916f083e",
   "metadata": {},
   "outputs": [],
   "source": [
    "c=2"
   ]
  },
  {
   "cell_type": "code",
   "execution_count": 20,
   "id": "11b278b3",
   "metadata": {},
   "outputs": [],
   "source": [
    "a=c"
   ]
  },
  {
   "cell_type": "code",
   "execution_count": 21,
   "id": "060464fc",
   "metadata": {},
   "outputs": [
    {
     "data": {
      "text/plain": [
       "2"
      ]
     },
     "execution_count": 21,
     "metadata": {},
     "output_type": "execute_result"
    }
   ],
   "source": [
    "a ## assignment, value will change"
   ]
  },
  {
   "cell_type": "code",
   "execution_count": 22,
   "id": "c31b7b14",
   "metadata": {},
   "outputs": [
    {
     "data": {
      "text/plain": [
       "False"
      ]
     },
     "execution_count": 22,
     "metadata": {},
     "output_type": "execute_result"
    }
   ],
   "source": [
    "a==b"
   ]
  },
  {
   "cell_type": "code",
   "execution_count": 23,
   "id": "8ccbced5",
   "metadata": {},
   "outputs": [
    {
     "data": {
      "text/plain": [
       "False"
      ]
     },
     "execution_count": 23,
     "metadata": {},
     "output_type": "execute_result"
    }
   ],
   "source": [
    "b==c"
   ]
  },
  {
   "cell_type": "code",
   "execution_count": 24,
   "id": "c6e7ba71",
   "metadata": {},
   "outputs": [
    {
     "data": {
      "text/plain": [
       "True"
      ]
     },
     "execution_count": 24,
     "metadata": {},
     "output_type": "execute_result"
    }
   ],
   "source": [
    "a==c ## comparision"
   ]
  },
  {
   "cell_type": "raw",
   "id": "9ba67b0a",
   "metadata": {},
   "source": [
    "7. Identify the three blocks in this code:\n",
    "spam = 0\n",
    "if spam == 10:\n",
    "print('eggs')\n",
    "if spam > 5:\n",
    "print('bacon')\n",
    "else:\n",
    "print('ham')\n",
    "print('spam')\n",
    "print('spam')"
   ]
  },
  {
   "cell_type": "code",
   "execution_count": 25,
   "id": "34cead0d",
   "metadata": {},
   "outputs": [
    {
     "name": "stdout",
     "output_type": "stream",
     "text": [
      "ham\n",
      "spam\n",
      "spam\n"
     ]
    }
   ],
   "source": [
    "spam = 0\n",
    "if spam == 10:\n",
    "    print('eggs')\n",
    "if spam > 5:\n",
    "    print('bacon')\n",
    "else:\n",
    "    print('ham')\n",
    "print('spam')\n",
    "print('spam')"
   ]
  },
  {
   "cell_type": "markdown",
   "id": "a06f5900",
   "metadata": {},
   "source": [
    "8. Write code that prints Hello if 1 is stored in spam, prints Howdy if 2 is stored in spam, and prints Greetings! if anything else is stored in spam."
   ]
  },
  {
   "cell_type": "code",
   "execution_count": 26,
   "id": "bef7dfc5",
   "metadata": {},
   "outputs": [
    {
     "name": "stdout",
     "output_type": "stream",
     "text": [
      "enter the value5\n",
      "Howdy\n"
     ]
    }
   ],
   "source": [
    "spam=int(input(\"enter the value\"))\n",
    "if spam == 1:\n",
    "    print('hello')\n",
    "elif spam == 5:\n",
    "    print('Howdy')\n",
    "else:\n",
    "    print('Greetings!')\n"
   ]
  },
  {
   "cell_type": "raw",
   "id": "8c327bd3",
   "metadata": {},
   "source": [
    "\n",
    "9.If your programme is stuck in an endless loop, what keys you’ll press?\n",
    "\n",
    "Ctrl + C"
   ]
  },
  {
   "cell_type": "raw",
   "id": "d5b429fa",
   "metadata": {},
   "source": [
    "10. How can you tell the difference between break and continue?\n",
    "\n",
    "Break Statement\n",
    "The break statement is usually used with the switch statement, and it can also use it within the while loop, do-while loop, or the for-loop.\t\n",
    "Continue Statement\n",
    "The continue statement is not used with the switch statement, but it can be used within the while loop, do-while loop, or for-loop."
   ]
  },
  {
   "cell_type": "markdown",
   "id": "1a4d22d0",
   "metadata": {},
   "source": [
    "10. In a for loop, what is the difference between range(10), range(0, 10), and range(0, 10, 1)?"
   ]
  },
  {
   "cell_type": "code",
   "execution_count": 27,
   "id": "05cd71a0",
   "metadata": {},
   "outputs": [
    {
     "name": "stdout",
     "output_type": "stream",
     "text": [
      "0\n",
      "1\n",
      "2\n",
      "3\n",
      "4\n",
      "5\n",
      "6\n",
      "7\n",
      "8\n",
      "9\n"
     ]
    }
   ],
   "source": [
    "for i in range(10):\n",
    "    print(i)"
   ]
  },
  {
   "cell_type": "code",
   "execution_count": 28,
   "id": "c671ae01",
   "metadata": {},
   "outputs": [
    {
     "name": "stdout",
     "output_type": "stream",
     "text": [
      "0\n",
      "1\n",
      "2\n",
      "3\n",
      "4\n",
      "5\n",
      "6\n",
      "7\n",
      "8\n",
      "9\n"
     ]
    }
   ],
   "source": [
    "for i in range(0,10):\n",
    "    print(i)"
   ]
  },
  {
   "cell_type": "code",
   "execution_count": 29,
   "id": "16665f42",
   "metadata": {},
   "outputs": [
    {
     "name": "stdout",
     "output_type": "stream",
     "text": [
      "0\n",
      "1\n",
      "2\n",
      "3\n",
      "4\n",
      "5\n",
      "6\n",
      "7\n",
      "8\n",
      "9\n"
     ]
    }
   ],
   "source": [
    "for i in range(0,10,1):\n",
    "    print(i)"
   ]
  },
  {
   "cell_type": "raw",
   "id": "0671c6fd",
   "metadata": {},
   "source": [
    "all are same"
   ]
  },
  {
   "cell_type": "raw",
   "id": "55e146ab",
   "metadata": {},
   "source": [
    "12. Write a short program that prints the numbers 1 to 10 using a for loop. Then write an equivalent program that prints the numbers 1 to 10 using a while loop."
   ]
  },
  {
   "cell_type": "code",
   "execution_count": 30,
   "id": "539d4a84",
   "metadata": {},
   "outputs": [
    {
     "name": "stdout",
     "output_type": "stream",
     "text": [
      "1\n",
      "2\n",
      "3\n",
      "4\n",
      "5\n",
      "6\n",
      "7\n",
      "8\n",
      "9\n",
      "10\n"
     ]
    }
   ],
   "source": [
    "for i in range(1,11):\n",
    "    print(i)"
   ]
  },
  {
   "cell_type": "code",
   "execution_count": 33,
   "id": "69b5ff3c",
   "metadata": {},
   "outputs": [
    {
     "name": "stdout",
     "output_type": "stream",
     "text": [
      "1\n",
      "2\n",
      "3\n",
      "4\n",
      "5\n",
      "6\n",
      "7\n",
      "8\n",
      "9\n",
      "10\n"
     ]
    }
   ],
   "source": [
    "i=1\n",
    "while i<11:\n",
    "    print(i)\n",
    "    i=i+1"
   ]
  },
  {
   "cell_type": "raw",
   "id": "44903a80",
   "metadata": {},
   "source": [
    "13. If you had a function named bacon() inside a module named spam, how would you call it after importing spam?\n"
   ]
  },
  {
   "cell_type": "code",
   "execution_count": 36,
   "id": "9e7a0ebe",
   "metadata": {},
   "outputs": [
    {
     "ename": "IndentationError",
     "evalue": "unindent does not match any outer indentation level (<tokenize>, line 6)",
     "output_type": "error",
     "traceback": [
      "\u001b[1;36m  File \u001b[1;32m\"<tokenize>\"\u001b[1;36m, line \u001b[1;32m6\u001b[0m\n\u001b[1;33m    return\u001b[0m\n\u001b[1;37m    ^\u001b[0m\n\u001b[1;31mIndentationError\u001b[0m\u001b[1;31m:\u001b[0m unindent does not match any outer indentation level\n"
     ]
    }
   ],
   "source": [
    "def spam():\n",
    "    print(\"call bacon\")\n",
    "    def bacon():\n",
    "        print(\"hi\")\n",
    "    return \n",
    "  return\n",
    "        \n",
    "        "
   ]
  },
  {
   "cell_type": "code",
   "execution_count": null,
   "id": "f68a4335",
   "metadata": {},
   "outputs": [],
   "source": []
  }
 ],
 "metadata": {
  "kernelspec": {
   "display_name": "Python 3 (ipykernel)",
   "language": "python",
   "name": "python3"
  },
  "language_info": {
   "codemirror_mode": {
    "name": "ipython",
    "version": 3
   },
   "file_extension": ".py",
   "mimetype": "text/x-python",
   "name": "python",
   "nbconvert_exporter": "python",
   "pygments_lexer": "ipython3",
   "version": "3.9.7"
  }
 },
 "nbformat": 4,
 "nbformat_minor": 5
}
